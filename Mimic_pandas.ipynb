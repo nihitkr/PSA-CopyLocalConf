{
 "cells": [
  {
   "cell_type": "code",
   "execution_count": 5,
   "id": "7b3d5060",
   "metadata": {},
   "outputs": [],
   "source": [
    "import os\n",
    "import datetime\n",
    "import shutil\n",
    "import pandas as pd"
   ]
  },
  {
   "cell_type": "code",
   "execution_count": 6,
   "id": "7a52693e",
   "metadata": {},
   "outputs": [],
   "source": [
    "##Enter Server Details\n",
    "model_server = \"files\\modelServer\\etc\\\\\"\n",
    "new_server = \"files\\\\newServer\\etc\\\\\""
   ]
  },
  {
   "cell_type": "code",
   "execution_count": 7,
   "id": "380cfb6e",
   "metadata": {},
   "outputs": [
    {
     "name": "stdout",
     "output_type": "stream",
     "text": [
      "Enter file to copy (without extention): group\n",
      "Backup created: files\\newServer\\etc\\group_BKP2024-02-27.txt\n"
     ]
    }
   ],
   "source": [
    "##Taking backup of original File Model Server\n",
    "file = input(\"Enter file to copy (without extention): \")\n",
    "original_file = new_server + file + \".txt\"\n",
    "file_name, file_extension = os.path.splitext(original_file)\n",
    "new_file = file_name + '_NEW_' + datetime.datetime.now().strftime(\"%Y-%m-%d\") + file_extension\n",
    "backup_file = file_name + '_BKP' + datetime.datetime.now().strftime(\"%Y-%m-%d\") + file_extension\n",
    "shutil.copy(original_file, backup_file)\n",
    "print(\"Backup created:\",backup_file)"
   ]
  },
  {
   "cell_type": "code",
   "execution_count": null,
   "id": "1a163e5e",
   "metadata": {},
   "outputs": [],
   "source": []
  }
 ],
 "metadata": {
  "kernelspec": {
   "display_name": "Python 3 (ipykernel)",
   "language": "python",
   "name": "python3"
  },
  "language_info": {
   "codemirror_mode": {
    "name": "ipython",
    "version": 3
   },
   "file_extension": ".py",
   "mimetype": "text/x-python",
   "name": "python",
   "nbconvert_exporter": "python",
   "pygments_lexer": "ipython3",
   "version": "3.9.12"
  }
 },
 "nbformat": 4,
 "nbformat_minor": 5
}
