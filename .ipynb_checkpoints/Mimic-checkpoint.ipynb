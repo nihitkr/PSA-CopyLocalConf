{
 "cells": [
  {
   "cell_type": "code",
   "execution_count": 1,
   "id": "6cdc82d6",
   "metadata": {},
   "outputs": [],
   "source": [
    "import os\n",
    "import datetime\n",
    "import shutil\n",
    "import numpy as np\n",
    "import pandas as pd"
   ]
  },
  {
   "cell_type": "code",
   "execution_count": 2,
   "id": "b85b26a7",
   "metadata": {},
   "outputs": [],
   "source": [
    "##Enter Server Details\n",
    "model_server = \"files\\modelServer\\etc\\\\\"\n",
    "new_server = \"files\\\\newServer\\etc\\\\\""
   ]
  },
  {
   "cell_type": "code",
   "execution_count": 3,
   "id": "5d37b338",
   "metadata": {},
   "outputs": [
    {
     "name": "stdout",
     "output_type": "stream",
     "text": [
      "Enter file to copy (without extention): group\n",
      "Backup created: files\\newServer\\etc\\group_BKP2024-03-10.txt\n"
     ]
    }
   ],
   "source": [
    "##Taking backup of original File Model Server\n",
    "file = input(\"Enter file to copy (without extention): \")\n",
    "original_file = new_server + file + \".txt\"\n",
    "file_name, file_extension = os.path.splitext(original_file)\n",
    "new_file = file_name + '_NEW_' + datetime.datetime.now().strftime(\"%Y-%m-%d\") + file_extension\n",
    "backup_file = file_name + '_BKP' + datetime.datetime.now().strftime(\"%Y-%m-%d\") + file_extension\n",
    "shutil.copy(original_file, backup_file)\n",
    "print(\"Backup created:\",backup_file)"
   ]
  },
  {
   "cell_type": "code",
   "execution_count": 38,
   "id": "72eaa3b4",
   "metadata": {},
   "outputs": [
    {
     "data": {
      "text/plain": [
       "['root:sdvsd:100:\\n',\n",
       " 'unixsa:asdvasdv:101:nkumar10,draj,rrai,ksharm\\n',\n",
       " 'oracledb:sdvasdv:102:abc,abd,abg\\n',\n",
       " 'storageops:ssfeww:103:mganes,ysanam,jmitha\\n',\n",
       " 'info:qwqew:104:ravi,jitu\\n',\n",
       " 'aaa:aedweu:105:']"
      ]
     },
     "execution_count": 38,
     "metadata": {},
     "output_type": "execute_result"
    }
   ],
   "source": [
    "##Reading entries from file in model server\n",
    "source_file = open(model_server + file + '.txt', 'r')\n",
    "s_entries = source_file.readlines()\n",
    "source_file.close()\n",
    "s_entries"
   ]
  },
  {
   "cell_type": "code",
   "execution_count": 39,
   "id": "7c9edb6f",
   "metadata": {},
   "outputs": [
    {
     "data": {
      "text/plain": [
       "['root:sdvsd:100:\\n',\n",
       " 'unixsa:asdvasdv:101:\\n',\n",
       " 'oracledb:sdvasdv:102:abc,abd,abg\\n',\n",
       " 'storageops:ssfeww:103:mganes,ysanam,jmitha\\n',\n",
       " 'engg:asaewwe:107:ahegde,saryaop']"
      ]
     },
     "execution_count": 39,
     "metadata": {},
     "output_type": "execute_result"
    }
   ],
   "source": [
    "##Taking entries from file in new server\n",
    "dest_file = open(original_file, 'r')\n",
    "d_entries = dest_file.readlines()\n",
    "dest_file.close\n",
    "d_entries"
   ]
  },
  {
   "cell_type": "raw",
   "id": "7f7dc146",
   "metadata": {},
   "source": [
    "print(\"Comparing entries from model server....\")\n",
    "\n",
    "##Comparing and adding missing entries in passwd,shadow, users.ignore\n",
    "for line in s_entries[s_entries.index('unixsa\\n'):]: #Checking for entries after unixsa\n",
    "    if (line[0]=='#'):\n",
    "        print (\"Not copied (Commented):\", line)\n",
    "        continue\n",
    "    try:\n",
    "        d_entries.index(line)\n",
    "    except:\n",
    "        d_entries.append(line)\n",
    "        print('Added:',line)\n",
    "    else:\n",
    "        print ('Already present:',line)"
   ]
  },
  {
   "cell_type": "raw",
   "id": "f022a07f",
   "metadata": {},
   "source": [
    "##Update missing entries in file\n",
    "file = open(new_file,\"w\")\n",
    "file.writelines(d_entries)\n",
    "file.close()"
   ]
  },
  {
   "cell_type": "code",
   "execution_count": 56,
   "id": "d22ea1b9",
   "metadata": {},
   "outputs": [
    {
     "data": {
      "text/plain": [
       "str"
      ]
     },
     "execution_count": 56,
     "metadata": {},
     "output_type": "execute_result"
    }
   ],
   "source": [
    "type(s_entries[0])"
   ]
  },
  {
   "cell_type": "code",
   "execution_count": 68,
   "id": "6724717b",
   "metadata": {},
   "outputs": [
    {
     "data": {
      "text/plain": [
       "array([list(['root', 'sdvsd', '100', '\\n']),\n",
       "       list(['unixsa', 'asdvasdv', '101', 'nkumar10,draj,rrai,ksharm\\n']),\n",
       "       list(['oracledb', 'sdvasdv', '102', 'abc,abd,abg\\n']),\n",
       "       list(['storageops', 'ssfeww', '103', 'mganes,ysanam,jmitha\\n']),\n",
       "       list(['info', 'qwqew', '104', 'ravi,jitu\\n']),\n",
       "       list(['aaa', 'aedweu', '105', ''])], dtype=object)"
      ]
     },
     "execution_count": 68,
     "metadata": {},
     "output_type": "execute_result"
    }
   ],
   "source": [
    "##Splitting arrays with delimiter ':'\n",
    "s_list = np.array(s_entries)\n",
    "s_list = np.char.split(s_list, sep=\":\")\n",
    "s_list"
   ]
  },
  {
   "cell_type": "code",
   "execution_count": 96,
   "id": "a26ddc17",
   "metadata": {},
   "outputs": [
    {
     "data": {
      "text/plain": [
       "array([list(['root', 'sdvsd', '100', '\\n']),\n",
       "       list(['unixsa', 'asdvasdv', '101', '\\n']),\n",
       "       list(['oracledb', 'sdvasdv', '102', 'abc,abd,abg\\n']),\n",
       "       list(['storageops', 'ssfeww', '103', 'mganes,ysanam,jmitha\\n']),\n",
       "       list(['engg', 'asaewwe', '107', 'ahegde,saryaop'])], dtype=object)"
      ]
     },
     "execution_count": 96,
     "metadata": {},
     "output_type": "execute_result"
    }
   ],
   "source": [
    "##Splitting arrays with delimiter ':'\n",
    "d_list = np.array(d_entries)\n",
    "d_list = np.char.split(d_list, sep=\":\")\n",
    "d_list"
   ]
  },
  {
   "cell_type": "code",
   "execution_count": 100,
   "id": "db2871ec",
   "metadata": {},
   "outputs": [],
   "source": []
  },
  {
   "cell_type": "code",
   "execution_count": 101,
   "id": "fc21f6cc",
   "metadata": {},
   "outputs": [
    {
     "data": {
      "text/html": [
       "<div>\n",
       "<style scoped>\n",
       "    .dataframe tbody tr th:only-of-type {\n",
       "        vertical-align: middle;\n",
       "    }\n",
       "\n",
       "    .dataframe tbody tr th {\n",
       "        vertical-align: top;\n",
       "    }\n",
       "\n",
       "    .dataframe thead th {\n",
       "        text-align: right;\n",
       "    }\n",
       "</style>\n",
       "<table border=\"1\" class=\"dataframe\">\n",
       "  <thead>\n",
       "    <tr style=\"text-align: right;\">\n",
       "      <th></th>\n",
       "      <th>0</th>\n",
       "      <th>1</th>\n",
       "      <th>2</th>\n",
       "      <th>3</th>\n",
       "    </tr>\n",
       "  </thead>\n",
       "  <tbody>\n",
       "    <tr>\n",
       "      <th>0</th>\n",
       "      <td>root</td>\n",
       "      <td>sdvsd</td>\n",
       "      <td>100</td>\n",
       "      <td>NaN</td>\n",
       "    </tr>\n",
       "    <tr>\n",
       "      <th>1</th>\n",
       "      <td>unixsa</td>\n",
       "      <td>asdvasdv</td>\n",
       "      <td>101</td>\n",
       "      <td>nkumar10,draj,rrai,ksharm</td>\n",
       "    </tr>\n",
       "    <tr>\n",
       "      <th>2</th>\n",
       "      <td>oracledb</td>\n",
       "      <td>sdvasdv</td>\n",
       "      <td>102</td>\n",
       "      <td>abc,abd,abg</td>\n",
       "    </tr>\n",
       "    <tr>\n",
       "      <th>3</th>\n",
       "      <td>storageops</td>\n",
       "      <td>ssfeww</td>\n",
       "      <td>103</td>\n",
       "      <td>mganes,ysanam,jmitha</td>\n",
       "    </tr>\n",
       "    <tr>\n",
       "      <th>4</th>\n",
       "      <td>info</td>\n",
       "      <td>qwqew</td>\n",
       "      <td>104</td>\n",
       "      <td>ravi,jitu</td>\n",
       "    </tr>\n",
       "    <tr>\n",
       "      <th>5</th>\n",
       "      <td>aaa</td>\n",
       "      <td>aedweu</td>\n",
       "      <td>105</td>\n",
       "      <td>NaN</td>\n",
       "    </tr>\n",
       "  </tbody>\n",
       "</table>\n",
       "</div>"
      ],
      "text/plain": [
       "            0         1    2                          3\n",
       "0        root     sdvsd  100                        NaN\n",
       "1      unixsa  asdvasdv  101  nkumar10,draj,rrai,ksharm\n",
       "2    oracledb   sdvasdv  102                abc,abd,abg\n",
       "3  storageops    ssfeww  103       mganes,ysanam,jmitha\n",
       "4        info     qwqew  104                  ravi,jitu\n",
       "5         aaa    aedweu  105                        NaN"
      ]
     },
     "execution_count": 101,
     "metadata": {},
     "output_type": "execute_result"
    }
   ],
   "source": []
  },
  {
   "cell_type": "code",
   "execution_count": null,
   "id": "b8aeb171",
   "metadata": {},
   "outputs": [],
   "source": []
  }
 ],
 "metadata": {
  "kernelspec": {
   "display_name": "Python 3 (ipykernel)",
   "language": "python",
   "name": "python3"
  },
  "language_info": {
   "codemirror_mode": {
    "name": "ipython",
    "version": 3
   },
   "file_extension": ".py",
   "mimetype": "text/x-python",
   "name": "python",
   "nbconvert_exporter": "python",
   "pygments_lexer": "ipython3",
   "version": "3.9.12"
  }
 },
 "nbformat": 4,
 "nbformat_minor": 5
}
