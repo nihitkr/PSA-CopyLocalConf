{
 "cells": [
  {
   "cell_type": "code",
   "execution_count": 5,
   "id": "37a4dd9a",
   "metadata": {},
   "outputs": [],
   "source": [
    "import os\n",
    "import datetime\n",
    "import shutil\n",
    "import pandas as pd"
   ]
  },
  {
   "cell_type": "code",
   "execution_count": 6,
   "id": "0abc4942",
   "metadata": {},
   "outputs": [],
   "source": [
    "##Enter Server Details\n",
    "model_server = \"files\\modelServer\\etc\\\\\"\n",
    "new_server = \"files\\\\newServer\\etc\\\\\""
   ]
  },
  {
   "cell_type": "code",
   "execution_count": 7,
   "id": "3126cef9",
   "metadata": {},
   "outputs": [
    {
     "name": "stdout",
     "output_type": "stream",
     "text": [
      "Enter file to copy (without extention): group\n",
      "Backup created: files\\newServer\\etc\\group_BKP2024-02-27.txt\n"
     ]
    }
   ],
   "source": [
    "##Taking backup of original File Model Server\n",
    "file = input(\"Enter file to copy (without extention): \")\n",
    "original_file = new_server + file + \".txt\"\n",
    "file_name, file_extension = os.path.splitext(original_file)\n",
    "new_file = file_name + '_NEW_' + datetime.datetime.now().strftime(\"%Y-%m-%d\") + file_extension\n",
    "backup_file = file_name + '_BKP' + datetime.datetime.now().strftime(\"%Y-%m-%d\") + file_extension\n",
    "shutil.copy(original_file, backup_file)\n",
    "print(\"Backup created:\",backup_file)"
   ]
  },
  {
   "cell_type": "code",
   "execution_count": 20,
   "id": "34924d86",
   "metadata": {},
   "outputs": [
    {
     "data": {
      "text/html": [
       "<div>\n",
       "<style scoped>\n",
       "    .dataframe tbody tr th:only-of-type {\n",
       "        vertical-align: middle;\n",
       "    }\n",
       "\n",
       "    .dataframe tbody tr th {\n",
       "        vertical-align: top;\n",
       "    }\n",
       "\n",
       "    .dataframe thead th {\n",
       "        text-align: right;\n",
       "    }\n",
       "</style>\n",
       "<table border=\"1\" class=\"dataframe\">\n",
       "  <thead>\n",
       "    <tr style=\"text-align: right;\">\n",
       "      <th></th>\n",
       "      <th>0</th>\n",
       "      <th>1</th>\n",
       "      <th>2</th>\n",
       "      <th>3</th>\n",
       "    </tr>\n",
       "  </thead>\n",
       "  <tbody>\n",
       "    <tr>\n",
       "      <th>0</th>\n",
       "      <td>root</td>\n",
       "      <td>sdvsd</td>\n",
       "      <td>100</td>\n",
       "      <td>NaN</td>\n",
       "    </tr>\n",
       "    <tr>\n",
       "      <th>1</th>\n",
       "      <td>unixsa</td>\n",
       "      <td>asdvasdv</td>\n",
       "      <td>101</td>\n",
       "      <td>nkumar10,draj,rrai,ksharm</td>\n",
       "    </tr>\n",
       "    <tr>\n",
       "      <th>2</th>\n",
       "      <td>oracledb</td>\n",
       "      <td>sdvasdv</td>\n",
       "      <td>102</td>\n",
       "      <td>abc,abd,abg</td>\n",
       "    </tr>\n",
       "    <tr>\n",
       "      <th>3</th>\n",
       "      <td>storageops</td>\n",
       "      <td>ssfeww</td>\n",
       "      <td>103</td>\n",
       "      <td>mganes,ysanam,jmitha</td>\n",
       "    </tr>\n",
       "    <tr>\n",
       "      <th>4</th>\n",
       "      <td>info</td>\n",
       "      <td>qwqew</td>\n",
       "      <td>104</td>\n",
       "      <td>ravi,jitu</td>\n",
       "    </tr>\n",
       "    <tr>\n",
       "      <th>5</th>\n",
       "      <td>aaa</td>\n",
       "      <td>aedweu</td>\n",
       "      <td>105</td>\n",
       "      <td>NaN</td>\n",
       "    </tr>\n",
       "  </tbody>\n",
       "</table>\n",
       "</div>"
      ],
      "text/plain": [
       "            0         1    2                          3\n",
       "0        root     sdvsd  100                        NaN\n",
       "1      unixsa  asdvasdv  101  nkumar10,draj,rrai,ksharm\n",
       "2    oracledb   sdvasdv  102                abc,abd,abg\n",
       "3  storageops    ssfeww  103       mganes,ysanam,jmitha\n",
       "4        info     qwqew  104                  ravi,jitu\n",
       "5         aaa    aedweu  105                        NaN"
      ]
     },
     "execution_count": 20,
     "metadata": {},
     "output_type": "execute_result"
    }
   ],
   "source": [
    "sdf = pd.read_csv('files\\modelServer\\etc\\group.txt', sep=':', header=None)\n",
    "sdf"
   ]
  },
  {
   "cell_type": "code",
   "execution_count": 21,
   "id": "f23fec12",
   "metadata": {},
   "outputs": [
    {
     "data": {
      "text/html": [
       "<div>\n",
       "<style scoped>\n",
       "    .dataframe tbody tr th:only-of-type {\n",
       "        vertical-align: middle;\n",
       "    }\n",
       "\n",
       "    .dataframe tbody tr th {\n",
       "        vertical-align: top;\n",
       "    }\n",
       "\n",
       "    .dataframe thead th {\n",
       "        text-align: right;\n",
       "    }\n",
       "</style>\n",
       "<table border=\"1\" class=\"dataframe\">\n",
       "  <thead>\n",
       "    <tr style=\"text-align: right;\">\n",
       "      <th></th>\n",
       "      <th>0</th>\n",
       "      <th>1</th>\n",
       "      <th>2</th>\n",
       "      <th>3</th>\n",
       "    </tr>\n",
       "  </thead>\n",
       "  <tbody>\n",
       "    <tr>\n",
       "      <th>0</th>\n",
       "      <td>root</td>\n",
       "      <td>sdvsd</td>\n",
       "      <td>100</td>\n",
       "      <td>NaN</td>\n",
       "    </tr>\n",
       "    <tr>\n",
       "      <th>1</th>\n",
       "      <td>unixsa</td>\n",
       "      <td>asdvasdv</td>\n",
       "      <td>101</td>\n",
       "      <td>NaN</td>\n",
       "    </tr>\n",
       "    <tr>\n",
       "      <th>2</th>\n",
       "      <td>oracledb</td>\n",
       "      <td>sdvasdv</td>\n",
       "      <td>102</td>\n",
       "      <td>abc,abd,abg</td>\n",
       "    </tr>\n",
       "    <tr>\n",
       "      <th>3</th>\n",
       "      <td>storageops</td>\n",
       "      <td>ssfeww</td>\n",
       "      <td>103</td>\n",
       "      <td>mganes,ysanam,jmitha</td>\n",
       "    </tr>\n",
       "    <tr>\n",
       "      <th>4</th>\n",
       "      <td>engg</td>\n",
       "      <td>asaewwe</td>\n",
       "      <td>107</td>\n",
       "      <td>ahegde,saryaop</td>\n",
       "    </tr>\n",
       "  </tbody>\n",
       "</table>\n",
       "</div>"
      ],
      "text/plain": [
       "            0         1    2                     3\n",
       "0        root     sdvsd  100                   NaN\n",
       "1      unixsa  asdvasdv  101                   NaN\n",
       "2    oracledb   sdvasdv  102           abc,abd,abg\n",
       "3  storageops    ssfeww  103  mganes,ysanam,jmitha\n",
       "4        engg   asaewwe  107        ahegde,saryaop"
      ]
     },
     "execution_count": 21,
     "metadata": {},
     "output_type": "execute_result"
    }
   ],
   "source": [
    "ndf = pd.read_csv(\"files\\modelServer\\etc\\group1.txt\", sep=':', header=None)\n",
    "ndf"
   ]
  },
  {
   "cell_type": "code",
   "execution_count": 26,
   "id": "5caf21d7",
   "metadata": {},
   "outputs": [
    {
     "data": {
      "text/plain": [
       "RangeIndex(start=0, stop=5, step=1)"
      ]
     },
     "execution_count": 26,
     "metadata": {},
     "output_type": "execute_result"
    }
   ],
   "source": [
    "# Find common columns and indices\n",
    "common_cols = sdf.columns.intersection(ndf.columns)\n",
    "common_idx = ndf.index.intersection(ndf.index)\n",
    "common_idx"
   ]
  },
  {
   "cell_type": "code",
   "execution_count": 46,
   "id": "7d46f52c",
   "metadata": {},
   "outputs": [
    {
     "data": {
      "text/plain": [
       "array(['root', 'unixsa', 'oracledb', 'storageops', 'info', 'aaa', 'engg'],\n",
       "      dtype=object)"
      ]
     },
     "execution_count": 46,
     "metadata": {},
     "output_type": "execute_result"
    }
   ],
   "source": [
    "all_values = pd.concat([sdf[0], ndf[0]]).unique()\n",
    "all_values"
   ]
  },
  {
   "cell_type": "code",
   "execution_count": 47,
   "id": "d270d21a",
   "metadata": {},
   "outputs": [
    {
     "data": {
      "text/html": [
       "<div>\n",
       "<style scoped>\n",
       "    .dataframe tbody tr th:only-of-type {\n",
       "        vertical-align: middle;\n",
       "    }\n",
       "\n",
       "    .dataframe tbody tr th {\n",
       "        vertical-align: top;\n",
       "    }\n",
       "\n",
       "    .dataframe thead th {\n",
       "        text-align: right;\n",
       "    }\n",
       "</style>\n",
       "<table border=\"1\" class=\"dataframe\">\n",
       "  <thead>\n",
       "    <tr style=\"text-align: right;\">\n",
       "      <th></th>\n",
       "    </tr>\n",
       "  </thead>\n",
       "  <tbody>\n",
       "    <tr>\n",
       "      <th>root</th>\n",
       "    </tr>\n",
       "    <tr>\n",
       "      <th>unixsa</th>\n",
       "    </tr>\n",
       "    <tr>\n",
       "      <th>oracledb</th>\n",
       "    </tr>\n",
       "    <tr>\n",
       "      <th>storageops</th>\n",
       "    </tr>\n",
       "    <tr>\n",
       "      <th>info</th>\n",
       "    </tr>\n",
       "    <tr>\n",
       "      <th>aaa</th>\n",
       "    </tr>\n",
       "    <tr>\n",
       "      <th>engg</th>\n",
       "    </tr>\n",
       "  </tbody>\n",
       "</table>\n",
       "</div>"
      ],
      "text/plain": [
       "Empty DataFrame\n",
       "Columns: []\n",
       "Index: [root, unixsa, oracledb, storageops, info, aaa, engg]"
      ]
     },
     "execution_count": 47,
     "metadata": {},
     "output_type": "execute_result"
    }
   ],
   "source": [
    "merged_df = pd.DataFrame(index=all_values)\n",
    "merged_df"
   ]
  },
  {
   "cell_type": "code",
   "execution_count": 54,
   "id": "bd5f6930",
   "metadata": {},
   "outputs": [
    {
     "data": {
      "text/html": [
       "<div>\n",
       "<style scoped>\n",
       "    .dataframe tbody tr th:only-of-type {\n",
       "        vertical-align: middle;\n",
       "    }\n",
       "\n",
       "    .dataframe tbody tr th {\n",
       "        vertical-align: top;\n",
       "    }\n",
       "\n",
       "    .dataframe thead th {\n",
       "        text-align: right;\n",
       "    }\n",
       "</style>\n",
       "<table border=\"1\" class=\"dataframe\">\n",
       "  <thead>\n",
       "    <tr style=\"text-align: right;\">\n",
       "      <th></th>\n",
       "      <th>0</th>\n",
       "      <th>1_x</th>\n",
       "      <th>2_x</th>\n",
       "      <th>3_x</th>\n",
       "      <th>1_y</th>\n",
       "      <th>2_y</th>\n",
       "      <th>3_y</th>\n",
       "    </tr>\n",
       "  </thead>\n",
       "  <tbody>\n",
       "    <tr>\n",
       "      <th>0</th>\n",
       "      <td>root</td>\n",
       "      <td>sdvsd</td>\n",
       "      <td>100.0</td>\n",
       "      <td>NaN</td>\n",
       "      <td>sdvsd</td>\n",
       "      <td>100.0</td>\n",
       "      <td>NaN</td>\n",
       "    </tr>\n",
       "    <tr>\n",
       "      <th>1</th>\n",
       "      <td>unixsa</td>\n",
       "      <td>asdvasdv</td>\n",
       "      <td>101.0</td>\n",
       "      <td>NaN</td>\n",
       "      <td>asdvasdv</td>\n",
       "      <td>101.0</td>\n",
       "      <td>nkumar10,draj,rrai,ksharm</td>\n",
       "    </tr>\n",
       "    <tr>\n",
       "      <th>2</th>\n",
       "      <td>oracledb</td>\n",
       "      <td>sdvasdv</td>\n",
       "      <td>102.0</td>\n",
       "      <td>abc,abd,abg</td>\n",
       "      <td>sdvasdv</td>\n",
       "      <td>102.0</td>\n",
       "      <td>abc,abd,abg</td>\n",
       "    </tr>\n",
       "    <tr>\n",
       "      <th>3</th>\n",
       "      <td>storageops</td>\n",
       "      <td>ssfeww</td>\n",
       "      <td>103.0</td>\n",
       "      <td>mganes,ysanam,jmitha</td>\n",
       "      <td>ssfeww</td>\n",
       "      <td>103.0</td>\n",
       "      <td>mganes,ysanam,jmitha</td>\n",
       "    </tr>\n",
       "    <tr>\n",
       "      <th>4</th>\n",
       "      <td>engg</td>\n",
       "      <td>asaewwe</td>\n",
       "      <td>107.0</td>\n",
       "      <td>ahegde,saryaop</td>\n",
       "      <td>NaN</td>\n",
       "      <td>NaN</td>\n",
       "      <td>NaN</td>\n",
       "    </tr>\n",
       "    <tr>\n",
       "      <th>5</th>\n",
       "      <td>info</td>\n",
       "      <td>NaN</td>\n",
       "      <td>NaN</td>\n",
       "      <td>NaN</td>\n",
       "      <td>qwqew</td>\n",
       "      <td>104.0</td>\n",
       "      <td>ravi,jitu</td>\n",
       "    </tr>\n",
       "    <tr>\n",
       "      <th>6</th>\n",
       "      <td>aaa</td>\n",
       "      <td>NaN</td>\n",
       "      <td>NaN</td>\n",
       "      <td>NaN</td>\n",
       "      <td>aedweu</td>\n",
       "      <td>105.0</td>\n",
       "      <td>NaN</td>\n",
       "    </tr>\n",
       "  </tbody>\n",
       "</table>\n",
       "</div>"
      ],
      "text/plain": [
       "            0       1_x    2_x                   3_x       1_y    2_y  \\\n",
       "0        root     sdvsd  100.0                   NaN     sdvsd  100.0   \n",
       "1      unixsa  asdvasdv  101.0                   NaN  asdvasdv  101.0   \n",
       "2    oracledb   sdvasdv  102.0           abc,abd,abg   sdvasdv  102.0   \n",
       "3  storageops    ssfeww  103.0  mganes,ysanam,jmitha    ssfeww  103.0   \n",
       "4        engg   asaewwe  107.0        ahegde,saryaop       NaN    NaN   \n",
       "5        info       NaN    NaN                   NaN     qwqew  104.0   \n",
       "6         aaa       NaN    NaN                   NaN    aedweu  105.0   \n",
       "\n",
       "                         3_y  \n",
       "0                        NaN  \n",
       "1  nkumar10,draj,rrai,ksharm  \n",
       "2                abc,abd,abg  \n",
       "3       mganes,ysanam,jmitha  \n",
       "4                        NaN  \n",
       "5                  ravi,jitu  \n",
       "6                        NaN  "
      ]
     },
     "execution_count": 54,
     "metadata": {},
     "output_type": "execute_result"
    }
   ],
   "source": [
    "# Join DataFrames based on the first column using outer join\n",
    "result = ndf.merge(sdf, on=0, how='outer')\n",
    "result"
   ]
  },
  {
   "cell_type": "code",
   "execution_count": 55,
   "id": "c666acaf",
   "metadata": {},
   "outputs": [],
   "source": [
    "user_data1 = [\n",
    "    {\"username\": \"user1\", \"uid\": 1000, \"gid\": 100, \"info\": \"User One\"},\n",
    "    {\"username\": \"user2\", \"uid\": 1001, \"gid\": 100, \"info\": \"User Two\"},\n",
    "]\n",
    "\n",
    "user_data2 = [\n",
    "    {\"username\": \"user1\", \"uid\": 1000, \"gid\": 100},\n",
    "    {\"username\": \"user3\", \"uid\": 1002, \"gid\": 101, \"info\": \"User Three\"},\n",
    "]\n"
   ]
  },
  {
   "cell_type": "code",
   "execution_count": 68,
   "id": "f171abdd",
   "metadata": {},
   "outputs": [
    {
     "data": {
      "text/plain": [
       "{'user1', 'user3'}"
      ]
     },
     "execution_count": 68,
     "metadata": {},
     "output_type": "execute_result"
    }
   ],
   "source": [
    "usernames1 = set([user[\"username\"] for user in user_data1])\n",
    "usernames2 = set([user[\"username\"] for user in user_data2])\n",
    "usernames2"
   ]
  },
  {
   "cell_type": "code",
   "execution_count": 67,
   "id": "c87cb26a",
   "metadata": {},
   "outputs": [
    {
     "data": {
      "text/plain": [
       "{'user2'}"
      ]
     },
     "execution_count": 67,
     "metadata": {},
     "output_type": "execute_result"
    }
   ],
   "source": [
    "missing_in_1 = usernames2 - usernames1\n",
    "missing_in_2 = usernames1 - usernames2\n",
    "missing_in_2"
   ]
  },
  {
   "cell_type": "code",
   "execution_count": 69,
   "id": "0faacf32",
   "metadata": {},
   "outputs": [
    {
     "data": {
      "text/plain": [
       "{'user1': {'username': 'user1', 'uid': 1000, 'gid': 100, 'info': 'User One'},\n",
       " 'user2': {'username': 'user2', 'uid': 1001, 'gid': 100, 'info': 'User Two'},\n",
       " 'user3': {'username': 'user3', 'uid': 1002, 'gid': 101, 'info': 'User Three'}}"
      ]
     },
     "execution_count": 69,
     "metadata": {},
     "output_type": "execute_result"
    }
   ],
   "source": [
    "complete_data = {}\n",
    "for user in user_data1:\n",
    "    complete_data[user[\"username\"]] = user\n",
    "\n",
    "for user in user_data2:\n",
    "    if user[\"username\"] not in complete_data:\n",
    "        complete_data[user[\"username\"]] = user\n",
    "complete_data"
   ]
  },
  {
   "cell_type": "code",
   "execution_count": 61,
   "id": "6a6bf1f6",
   "metadata": {},
   "outputs": [],
   "source": [
    "filled_user_data2 = []\n",
    "for user in user_data2:\n",
    "    if user[\"username\"] in missing_in_2:\n",
    "        filled_user_data2.append(complete_data[user[\"username\"]])\n",
    "    else:\n",
    "        filled_user_data2.append(user)"
   ]
  },
  {
   "cell_type": "code",
   "execution_count": 62,
   "id": "0525b8bf",
   "metadata": {},
   "outputs": [],
   "source": [
    "complete_data = {}\n",
    "for user in user_data1:\n",
    "    complete_data[user[\"username\"]] = user\n",
    "\n",
    "for user in user_data2:\n",
    "    if user[\"username\"] not in complete_data:\n",
    "        complete_data[user[\"username\"]] = user"
   ]
  },
  {
   "cell_type": "code",
   "execution_count": 63,
   "id": "fadadc69",
   "metadata": {},
   "outputs": [],
   "source": [
    "filled_user_data2 = []\n",
    "for user in user_data2:\n",
    "    if user[\"username\"] in missing_in_2:\n",
    "        filled_user_data2.append(complete_data[user[\"username\"]])\n",
    "    else:\n",
    "        filled_user_data2.append(user)"
   ]
  },
  {
   "cell_type": "code",
   "execution_count": 64,
   "id": "58c61f57",
   "metadata": {},
   "outputs": [
    {
     "name": "stdout",
     "output_type": "stream",
     "text": [
      "Filled User Data 2:\n",
      "{'username': 'user1', 'uid': 1000, 'gid': 100}\n",
      "{'username': 'user3', 'uid': 1002, 'gid': 101, 'info': 'User Three'}\n"
     ]
    }
   ],
   "source": [
    "print(\"Filled User Data 2:\")\n",
    "for user in filled_user_data2:\n",
    "    print(user)"
   ]
  },
  {
   "cell_type": "code",
   "execution_count": 65,
   "id": "843b692d",
   "metadata": {},
   "outputs": [
    {
     "data": {
      "text/plain": [
       "[{'username': 'user1', 'uid': 1000, 'gid': 100},\n",
       " {'username': 'user3', 'uid': 1002, 'gid': 101, 'info': 'User Three'}]"
      ]
     },
     "execution_count": 65,
     "metadata": {},
     "output_type": "execute_result"
    }
   ],
   "source": [
    "filled_user_data2"
   ]
  },
  {
   "cell_type": "code",
   "execution_count": null,
   "id": "c077cfe6",
   "metadata": {},
   "outputs": [],
   "source": []
  }
 ],
 "metadata": {
  "kernelspec": {
   "display_name": "Python 3 (ipykernel)",
   "language": "python",
   "name": "python3"
  },
  "language_info": {
   "codemirror_mode": {
    "name": "ipython",
    "version": 3
   },
   "file_extension": ".py",
   "mimetype": "text/x-python",
   "name": "python",
   "nbconvert_exporter": "python",
   "pygments_lexer": "ipython3",
   "version": "3.9.12"
  }
 },
 "nbformat": 4,
 "nbformat_minor": 5
}
