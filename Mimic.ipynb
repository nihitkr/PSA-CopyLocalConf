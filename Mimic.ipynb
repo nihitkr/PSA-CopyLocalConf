{
 "cells": [
  {
   "cell_type": "code",
   "execution_count": 2,
   "id": "6cdc82d6",
   "metadata": {},
   "outputs": [],
   "source": [
    "import os\n",
    "import datetime\n",
    "import shutil\n",
    "import numpy as np\n",
    "import pandas as pd"
   ]
  },
  {
   "cell_type": "code",
   "execution_count": 3,
   "id": "b85b26a7",
   "metadata": {},
   "outputs": [],
   "source": [
    "##Enter Server Details\n",
    "model_server = \"files\\modelServer\\etc\\\\\"\n",
    "new_server = \"files\\\\newServer\\etc\\\\\""
   ]
  },
  {
   "cell_type": "code",
   "execution_count": 4,
   "id": "5d37b338",
   "metadata": {},
   "outputs": [
    {
     "name": "stdout",
     "output_type": "stream",
     "text": [
      "Enter file to copy (without extention): passwd\n",
      "Backup created: files\\newServer\\etc\\passwd_BKP2024-03-10.txt\n"
     ]
    }
   ],
   "source": [
    "##Taking backup of original File Model Server\n",
    "file = input(\"Enter file to copy (without extention): \")\n",
    "original_file = new_server + file + \".txt\"\n",
    "file_name, file_extension = os.path.splitext(original_file)\n",
    "new_file = file_name + '_NEW_' + datetime.datetime.now().strftime(\"%Y-%m-%d\") + file_extension\n",
    "backup_file = file_name + '_BKP' + datetime.datetime.now().strftime(\"%Y-%m-%d\") + file_extension\n",
    "shutil.copy(original_file, backup_file)\n",
    "print(\"Backup created:\",backup_file)"
   ]
  },
  {
   "cell_type": "code",
   "execution_count": 5,
   "id": "72eaa3b4",
   "metadata": {},
   "outputs": [
    {
     "data": {
      "text/plain": [
       "['root\\n',\n",
       " 'unixsa\\n',\n",
       " 'ansible_svc\\n',\n",
       " 'madtp\\n',\n",
       " 'monitorsvc\\n',\n",
       " 'vmimport\\n',\n",
       " 'oracle\\n',\n",
       " '#user\\n',\n",
       " 'oracledb\\n',\n",
       " 'oracledba\\n']"
      ]
     },
     "execution_count": 5,
     "metadata": {},
     "output_type": "execute_result"
    }
   ],
   "source": [
    "##Reading entries from file in model server\n",
    "source_file = open(model_server + file + '.txt', 'r')\n",
    "s_entries = source_file.readlines()\n",
    "source_file.close()\n",
    "s_entries"
   ]
  },
  {
   "cell_type": "code",
   "execution_count": 6,
   "id": "7c9edb6f",
   "metadata": {},
   "outputs": [
    {
     "data": {
      "text/plain": [
       "['root\\n',\n",
       " 'unixsa\\n',\n",
       " 'ansible_svc\\n',\n",
       " 'madtp\\n',\n",
       " 'oracle\\n',\n",
       " 'oracledb\\n',\n",
       " 'nkumar10\\n',\n",
       " 'chronyd\\n']"
      ]
     },
     "execution_count": 6,
     "metadata": {},
     "output_type": "execute_result"
    }
   ],
   "source": [
    "##Taking entries from file in new server\n",
    "dest_file = open(original_file, 'r')\n",
    "d_entries = dest_file.readlines()\n",
    "dest_file.close\n",
    "d_entries"
   ]
  },
  {
   "cell_type": "code",
   "execution_count": 7,
   "id": "2b6fce65",
   "metadata": {},
   "outputs": [
    {
     "name": "stdout",
     "output_type": "stream",
     "text": [
      "Comparing entries from model server....\n",
      "Already present: unixsa\n",
      "\n",
      "Already present: ansible_svc\n",
      "\n",
      "Already present: madtp\n",
      "\n",
      "Added: monitorsvc\n",
      "\n",
      "Added: vmimport\n",
      "\n",
      "Already present: oracle\n",
      "\n",
      "Not copied (Commented): #user\n",
      "\n",
      "Already present: oracledb\n",
      "\n",
      "Added: oracledba\n",
      "\n"
     ]
    }
   ],
   "source": [
    "print(\"Comparing entries from model server....\")\n",
    "\n",
    "##Comparing and adding missing entries in passwd,shadow, users.ignore\n",
    "for line in s_entries[s_entries.index('unixsa\\n'):]: #Checking for entries after unixsa\n",
    "    if (line[0]=='#'):\n",
    "        print (\"Not copied (Commented):\", line)\n",
    "        continue\n",
    "    try:\n",
    "        d_entries.index(line)\n",
    "    except:\n",
    "        d_entries.append(line)\n",
    "        print('Added:',line)\n",
    "    else:\n",
    "        print ('Already present:',line)"
   ]
  },
  {
   "cell_type": "code",
   "execution_count": 8,
   "id": "e143592f",
   "metadata": {},
   "outputs": [],
   "source": [
    "##Update missing entries in file\n",
    "file = open(new_file,\"w\")\n",
    "file.writelines(d_entries)\n",
    "file.close()"
   ]
  },
  {
   "cell_type": "code",
   "execution_count": 13,
   "id": "d22ea1b9",
   "metadata": {},
   "outputs": [
    {
     "name": "stdout",
     "output_type": "stream",
     "text": [
      "<class 'str'>\n"
     ]
    }
   ],
   "source": [
    "print(type(d_entries[0]))"
   ]
  },
  {
   "cell_type": "code",
   "execution_count": 10,
   "id": "6724717b",
   "metadata": {},
   "outputs": [
    {
     "data": {
      "text/plain": [
       "array([list(['root\\n']), list(['unixsa\\n']), list(['ansible_svc\\n']),\n",
       "       list(['madtp\\n']), list(['monitorsvc\\n']), list(['vmimport\\n']),\n",
       "       list(['oracle\\n']), list(['#user\\n']), list(['oracledb\\n']),\n",
       "       list(['oracledba\\n'])], dtype=object)"
      ]
     },
     "execution_count": 10,
     "metadata": {},
     "output_type": "execute_result"
    }
   ],
   "source": [
    "##Splitting arrays with delimiter ':'\n",
    "s_list = np.array(s_entries)\n",
    "s_list = np.char.split(s_list, sep=\":\")\n",
    "s_list"
   ]
  },
  {
   "cell_type": "code",
   "execution_count": 11,
   "id": "a26ddc17",
   "metadata": {},
   "outputs": [
    {
     "data": {
      "text/plain": [
       "array([list(['root\\n']), list(['unixsa\\n']), list(['ansible_svc\\n']),\n",
       "       list(['madtp\\n']), list(['oracle\\n']), list(['oracledb\\n']),\n",
       "       list(['nkumar10\\n']), list(['chronyd\\n']), list(['monitorsvc\\n']),\n",
       "       list(['vmimport\\n']), list(['oracledba\\n'])], dtype=object)"
      ]
     },
     "execution_count": 11,
     "metadata": {},
     "output_type": "execute_result"
    }
   ],
   "source": [
    "##Splitting arrays with delimiter ':'\n",
    "d_list = np.array(d_entries)\n",
    "d_list = np.char.split(d_list, sep=\":\")\n",
    "d_list"
   ]
  },
  {
   "cell_type": "code",
   "execution_count": null,
   "id": "db2871ec",
   "metadata": {},
   "outputs": [],
   "source": []
  },
  {
   "cell_type": "code",
   "execution_count": null,
   "id": "fc21f6cc",
   "metadata": {},
   "outputs": [],
   "source": []
  },
  {
   "cell_type": "code",
   "execution_count": null,
   "id": "b8aeb171",
   "metadata": {},
   "outputs": [],
   "source": []
  }
 ],
 "metadata": {
  "kernelspec": {
   "display_name": "Python 3 (ipykernel)",
   "language": "python",
   "name": "python3"
  },
  "language_info": {
   "codemirror_mode": {
    "name": "ipython",
    "version": 3
   },
   "file_extension": ".py",
   "mimetype": "text/x-python",
   "name": "python",
   "nbconvert_exporter": "python",
   "pygments_lexer": "ipython3",
   "version": "3.9.12"
  }
 },
 "nbformat": 4,
 "nbformat_minor": 5
}
