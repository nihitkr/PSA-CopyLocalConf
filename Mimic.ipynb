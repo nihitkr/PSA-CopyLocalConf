{
 "cells": [
  {
   "cell_type": "code",
   "execution_count": 11,
   "id": "6cdc82d6",
   "metadata": {},
   "outputs": [
    {
     "name": "stdout",
     "output_type": "stream",
     "text": [
      "Requirement already satisfied: jovian in c:\\users\\asus\\anaconda3\\lib\\site-packages (0.2.47)\n",
      "Requirement already satisfied: click in c:\\users\\asus\\anaconda3\\lib\\site-packages (from jovian) (8.0.4)\n",
      "Requirement already satisfied: uuid in c:\\users\\asus\\anaconda3\\lib\\site-packages (from jovian) (1.30)\n",
      "Requirement already satisfied: requests in c:\\users\\asus\\anaconda3\\lib\\site-packages (from jovian) (2.27.1)\n",
      "Requirement already satisfied: pyyaml in c:\\users\\asus\\anaconda3\\lib\\site-packages (from jovian) (6.0)\n",
      "Requirement already satisfied: colorama in c:\\users\\asus\\anaconda3\\lib\\site-packages (from click->jovian) (0.4.4)\n",
      "Requirement already satisfied: idna<4,>=2.5 in c:\\users\\asus\\anaconda3\\lib\\site-packages (from requests->jovian) (3.3)\n",
      "Requirement already satisfied: charset-normalizer~=2.0.0 in c:\\users\\asus\\anaconda3\\lib\\site-packages (from requests->jovian) (2.0.4)\n",
      "Requirement already satisfied: certifi>=2017.4.17 in c:\\users\\asus\\anaconda3\\lib\\site-packages (from requests->jovian) (2021.10.8)\n",
      "Requirement already satisfied: urllib3<1.27,>=1.21.1 in c:\\users\\asus\\anaconda3\\lib\\site-packages (from requests->jovian) (1.26.9)\n"
     ]
    }
   ],
   "source": [
    "!pip install jovian\n",
    "import os\n",
    "import datetime\n",
    "import shutil\n",
    "import jovian"
   ]
  },
  {
   "cell_type": "code",
   "execution_count": null,
   "id": "d7a96578",
   "metadata": {},
   "outputs": [],
   "source": [
    "##Enter Server Details\n",
    "model_server = \"files\\modelServer\\etc\\\\\"\n",
    "new_server = \"files\\\\newServer\\etc\\\\\""
   ]
  },
  {
   "cell_type": "code",
   "execution_count": null,
   "id": "5d37b338",
   "metadata": {},
   "outputs": [],
   "source": [
    "##Taking backup of original File Model Server\n",
    "file = input(\"Enter file to copy (without extention): \")\n",
    "original_file = new_server + file + \".txt\"\n",
    "file_name, file_extension = os.path.splitext(original_file)\n",
    "new_file = file_name + '_NEW_' + datetime.datetime.now().strftime(\"%Y-%m-%d\") + file_extension\n",
    "backup_file = file_name + '_BKP' + datetime.datetime.now().strftime(\"%Y-%m-%d\") + file_extension\n",
    "shutil.copy(original_file, backup_file)\n",
    "print(\"Backup created:\",backup_file)"
   ]
  },
  {
   "cell_type": "code",
   "execution_count": null,
   "id": "72eaa3b4",
   "metadata": {},
   "outputs": [],
   "source": [
    "##Reading entries from file in model server\n",
    "source_file = open(model_server + file + '.txt', 'r')\n",
    "s_entries = source_file.readlines()\n",
    "source_file.close()\n",
    "s_entries"
   ]
  },
  {
   "cell_type": "code",
   "execution_count": null,
   "id": "7c9edb6f",
   "metadata": {},
   "outputs": [],
   "source": [
    "##Taking entries from file in new server\n",
    "dest_file = open(original_file, 'r')\n",
    "d_entries = dest_file.readlines()\n",
    "dest_file.close\n",
    "d_entries"
   ]
  },
  {
   "cell_type": "code",
   "execution_count": null,
   "id": "0e40be4d",
   "metadata": {},
   "outputs": [],
   "source": [
    "print(\"Comparing entries from model server....\")\n",
    "\n",
    "##Comparing and adding missing entries in passwd,shadow, users.ignore\n",
    "for line in s_entries[s_entries.index('unixsa\\n'):]: #Checking for entries after unixsa\n",
    "    if (line[0]=='#'):\n",
    "        print (\"Not copied (Commented):\", line)\n",
    "        continue\n",
    "    try:\n",
    "        d_entries.index(line)\n",
    "    except:\n",
    "        d_entries.append(line)\n",
    "        print('Added:',line)\n",
    "    else:\n",
    "        print ('Already present:',line)"
   ]
  },
  {
   "cell_type": "code",
   "execution_count": null,
   "id": "5b6dcb4e",
   "metadata": {},
   "outputs": [],
   "source": [
    "##Update missing entries in file\n",
    "file = open(new_file,\"w\")\n",
    "file.writelines(d_entries)\n",
    "file.close()"
   ]
  },
  {
   "cell_type": "code",
   "execution_count": null,
   "id": "c6d42e0f",
   "metadata": {},
   "outputs": [],
   "source": []
  },
  {
   "cell_type": "code",
   "execution_count": null,
   "id": "eafb18d2",
   "metadata": {},
   "outputs": [],
   "source": []
  },
  {
   "cell_type": "code",
   "execution_count": null,
   "id": "9f764673",
   "metadata": {},
   "outputs": [],
   "source": [
    "exit()"
   ]
  },
  {
   "cell_type": "code",
   "execution_count": null,
   "id": "4fd2d3a0",
   "metadata": {},
   "outputs": [],
   "source": []
  },
  {
   "cell_type": "code",
   "execution_count": null,
   "id": "6724717b",
   "metadata": {},
   "outputs": [],
   "source": [
    "#print(\"Comparing entries from model server....\")\n",
    "\n",
    "s_i = [][]\n",
    "for line in s_entries:\n",
    "    s_i[s_entries.index(line)] = line.split(:)\n",
    "s_i"
   ]
  }
 ],
 "metadata": {
  "kernelspec": {
   "display_name": "Python 3 (ipykernel)",
   "language": "python",
   "name": "python3"
  },
  "language_info": {
   "codemirror_mode": {
    "name": "ipython",
    "version": 3
   },
   "file_extension": ".py",
   "mimetype": "text/x-python",
   "name": "python",
   "nbconvert_exporter": "python",
   "pygments_lexer": "ipython3",
   "version": "3.9.12"
  }
 },
 "nbformat": 4,
 "nbformat_minor": 5
}
